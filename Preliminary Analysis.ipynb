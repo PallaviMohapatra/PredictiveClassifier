{
 "cells": [
  {
   "cell_type": "code",
   "execution_count": 1,
   "metadata": {},
   "outputs": [],
   "source": [
    "import pandas as pd\n",
    "from sklearn.ensemble import RandomForestClassifier\n",
    "from sklearn.feature_selection import SelectFromModel\n",
    "import matplotlib.pyplot as plt\n",
    "import seaborn as sns\n",
    "import numpy as np\n",
    "from sklearn import tree\n",
    "from sklearn.model_selection import KFold\n",
    "from sklearn.model_selection import cross_val_score\n",
    "\n",
    "%matplotlib inline"
   ]
  },
  {
   "cell_type": "code",
   "execution_count": 3,
   "metadata": {},
   "outputs": [],
   "source": [
    "df=pd.read_csv(r'C:\\Users\\PallaviM777\\Downloads\\lixpm28.csv')\n",
    "df_test=pd.read_csv(r'C:\\Users\\PallaviM777\\Downloads\\lixpm28.csv')\n",
    "\n",
    "#dataframes for target and non target classes\n",
    "df_yes=df.loc[df['y']=='yes']\n",
    "df_no=df.loc[df['y']=='no']\n",
    "\n",
    "cols= list(df.columns[1:5])\n",
    "[cols.append(i) for i in list(df.columns[6:9])]\n",
    "\n",
    "#converting categorical values to numeric to evaluate correlation\n",
    "ctr=1\n",
    "for i in df_test['job'].unique():\n",
    "    df_test.loc[df_test['job']==i,'job']=ctr\n",
    "    ctr+=1\n",
    "ctr=1\n",
    "\n",
    "for i in df_test['marital'].unique():\n",
    "    df_test.loc[df_test['marital']==i,'marital']=ctr\n",
    "    ctr+=1\n",
    "ctr=1\n",
    "\n",
    "for i in df_test['education'].unique():\n",
    "    df_test.loc[df_test['education']==i,'education']=ctr\n",
    "    ctr+=1\n",
    "ctr=1\n",
    "\n",
    "for i in df_test['contact'].unique():\n",
    "    df_test.loc[df_test['contact']==i,'contact']=ctr\n",
    "    ctr+=1\n",
    "\n",
    "ctr=1\n",
    "\n",
    "for i in df_test['poutcome'].unique():\n",
    "    df_test.loc[df_test['poutcome']==i,'poutcome']=ctr\n",
    "    ctr+=1\n",
    "\n",
    "df_test.loc[df_test['default']=='yes','default']=1\n",
    "df_test.loc[df_test['default']=='no','default']=0\n",
    "\n",
    "df_test.loc[df_test['housing']=='yes','housing']=1\n",
    "df_test.loc[df_test['housing']=='no','housing']=0\n",
    "\n",
    "df_test.loc[df_test['loan']=='yes','loan']=1\n",
    "df_test.loc[df_test['loan']=='no','loan']=0\n",
    "\n",
    "df_test.loc[df['y']=='yes','y']=1\n",
    "df_test.loc[df['y']=='no','y']=0\n"
   ]
  },
  {
   "cell_type": "code",
   "execution_count": null,
   "metadata": {},
   "outputs": [],
   "source": [
    "df_yes.describe()"
   ]
  },
  {
   "cell_type": "code",
   "execution_count": null,
   "metadata": {},
   "outputs": [],
   "source": [
    "df_no.describe()"
   ]
  },
  {
   "cell_type": "code",
   "execution_count": null,
   "metadata": {},
   "outputs": [],
   "source": [
    "df_yes[cols].describe(include='all')"
   ]
  },
  {
   "cell_type": "code",
   "execution_count": null,
   "metadata": {},
   "outputs": [],
   "source": [
    "df_no[cols].describe(include='all')"
   ]
  },
  {
   "cell_type": "code",
   "execution_count": null,
   "metadata": {},
   "outputs": [],
   "source": [
    "#Correlation heatmap\n",
    "sns.set()\n",
    "corr=df_test.corr()\n",
    "sns.heatmap(corr, \n",
    "        xticklabels=corr.columns,\n",
    "        yticklabels=corr.columns, cmap=\"YlGnBu\")\n",
    "plt.show()"
   ]
  },
  {
   "cell_type": "code",
   "execution_count": null,
   "metadata": {},
   "outputs": [],
   "source": [
    "#target/non target class count\n",
    "labels = ['yes','no']\n",
    "values = [len(df_yes), len(df_no)]\n",
    "plt.bar([0, 1], values, align='center', color=['blue', 'orange'])\n",
    "plt.xticks([0, 1], labels)\n",
    "plt.show()"
   ]
  },
  {
   "cell_type": "code",
   "execution_count": null,
   "metadata": {},
   "outputs": [],
   "source": [
    "pinfo=list(df.columns[2:4])\n",
    "pinfo.append(df.columns[8])\n",
    "\n",
    "fininfo=list(df.columns[6:8])\n",
    "fininfo.append(df.columns[4])\n",
    "\n",
    "numinfo = []\n",
    "numinfo.append(df.columns[0])\n",
    "numinfo.append(df.columns[5])\n",
    "numinfo.append(df.columns[9])\n",
    "\n",
    "campaigninfo=list(df.columns[11:14])"
   ]
  },
  {
   "cell_type": "code",
   "execution_count": null,
   "metadata": {},
   "outputs": [],
   "source": [
    "#Comparison plots for demographics\n",
    "\n",
    "plt.rcParams['figure.figsize'] = (18,5.0)\n",
    "\n",
    "fig, axes = plt.subplots(ncols=3,nrows=1)\n",
    "sns.set()\n",
    "sns.set_palette(\"Paired\")\n",
    "for ax, col in zip(axes.flat, pinfo):\n",
    "    chart= sns.countplot(x=col,data=df[[col,'y']], hue='y', ax=ax)\n",
    "    chart.set_xticklabels(chart.get_xticklabels(),rotation=90)\n",
    "    chart.set_title('Comparison based on '+col)\n",
    "plt.tight_layout()\n",
    "plt.show()"
   ]
  },
  {
   "cell_type": "code",
   "execution_count": null,
   "metadata": {},
   "outputs": [],
   "source": [
    "#Comparison plots for financial info\n",
    "\n",
    "plt.rcParams['figure.figsize'] = (20.0, 5.0)\n",
    "\n",
    "fig, axes = plt.subplots(ncols=3, nrows=1)\n",
    "sns.set()\n",
    "sns.set_palette(\"Paired\")\n",
    "for ax, col in zip(axes.flat, fininfo):\n",
    "    chart= sns.countplot(x=col,data=df[[col,'y']], hue='y', ax=ax)\n",
    "    chart.set_xticklabels(chart.get_xticklabels(),rotation=90)\n",
    "    chart.set_title('Comparison based on '+col)\n",
    "plt.show()"
   ]
  },
  {
   "cell_type": "code",
   "execution_count": null,
   "metadata": {},
   "outputs": [],
   "source": [
    "#Poutcome plot\n",
    "\n",
    "plt.rcParams['figure.figsize'] = (5.0, 5.0)\n",
    "sns.set()\n",
    "sns.set_palette(\"Paired\")\n",
    "chart= sns.countplot(x='poutcome',data=df[['poutcome','y']], hue='y')\n",
    "chart.set_xticklabels(chart.get_xticklabels(),rotation=90)\n",
    "chart.set_title('Comparison based on Poutcome')\n",
    "plt.show()"
   ]
  },
  {
   "cell_type": "code",
   "execution_count": null,
   "metadata": {},
   "outputs": [],
   "source": [
    "#Job plot\n",
    "\n",
    "plt.rcParams['figure.figsize'] = (5.0, 5.0)\n",
    "sns.set()\n",
    "sns.set_palette(\"Paired\")\n",
    "chart= sns.countplot(x='job',data=df[['job','y']], hue='y')\n",
    "chart.set_xticklabels(chart.get_xticklabels(),rotation=90)\n",
    "chart.set_title('Comparison based on job')\n",
    "plt.show()"
   ]
  },
  {
   "cell_type": "code",
   "execution_count": null,
   "metadata": {},
   "outputs": [],
   "source": [
    "#Housing plot\n",
    "\n",
    "plt.rcParams['figure.figsize'] = (5.0, 5.0)\n",
    "sns.set()\n",
    "sns.set_palette(\"Paired\")\n",
    "chart= sns.countplot(x='housing',data=df[['housing','y']], hue='y')\n",
    "chart.set_xticklabels(chart.get_xticklabels(),rotation=90)\n",
    "chart.set_title('Comparison based on housing')\n",
    "plt.show()"
   ]
  },
  {
   "cell_type": "code",
   "execution_count": null,
   "metadata": {},
   "outputs": [],
   "source": [
    "#Numeric feature plot\n",
    "\n",
    "d=df.groupby(['y'])\n",
    "plt.rcParams['figure.figsize'] = (20.0, 5.0)\n",
    "fig, axes = plt.subplots(ncols=3, nrows=1)\n",
    "sns.set()\n",
    "sns.set_palette(\"Paired\")\n",
    "for ax,col in zip(axes.flat,numinfo):\n",
    "    value=d[col].median()\n",
    "    chart=value.plot(kind='bar', color='blue', ax=ax)\n",
    "    chart.set_title('Comparison based on '+col)\n",
    "plt.show()"
   ]
  },
  {
   "cell_type": "code",
   "execution_count": null,
   "metadata": {},
   "outputs": [],
   "source": [
    "#Balance plot\n",
    "\n",
    "d=df.groupby(['y'])\n",
    "plt.rcParams['figure.figsize'] = (5.0, 5.0)\n",
    "sns.set()\n",
    "sns.set_palette(\"Paired\")\n",
    "value=d['balance'].median()\n",
    "chart=value.plot(kind='bar', color='blue')\n",
    "chart.set_title('Comparison based on balance')\n",
    "plt.show()"
   ]
  },
  {
   "cell_type": "code",
   "execution_count": null,
   "metadata": {},
   "outputs": [],
   "source": [
    "#Campaign plots\n",
    "\n",
    "d=df.groupby(['y'])\n",
    "plt.rcParams['figure.figsize'] = (20.0, 5.0)\n",
    "fig, axes = plt.subplots(ncols=3, nrows=1)\n",
    "sns.set()\n",
    "sns.set_palette(\"Paired\")\n",
    "for ax,col in zip(axes.flat,campaigninfo):\n",
    "    value=d[col].median()\n",
    "    chart=value.plot(kind='bar', color='blue', ax=ax)\n",
    "    chart.set_title('Comparison based on '+col)\n",
    "plt.show()"
   ]
  },
  {
   "cell_type": "code",
   "execution_count": null,
   "metadata": {},
   "outputs": [],
   "source": [
    "X=df_test[df_test.columns[:-1]]\n",
    "Y=df_test['y']\n",
    "dt = tree.DecisionTreeClassifier(max_depth=20, min_samples_leaf=7)\n",
    "folds = KFold(n_splits=5, shuffle=True, random_state=42)\n",
    "dt_scores = cross_val_score(dt, X, Y, scoring='precision', cv=folds)\n",
    "print(\"Mean DT Accuracy:\", np.mean(dt_scores))\n",
    "\n",
    "dt.fit(X,Y)\n",
    "feature_imp=dict(zip(X.columns, dt.feature_importances_))\n",
    "sns.set(style=\"whitegrid\")\n",
    "ax = sns.barplot(x=X.columns, y=dt.feature_importances_, color='orange')\n",
    "ax.set_xticklabels(ax.get_xticklabels(),rotation=90)\n",
    "plt.show()"
   ]
  },
  {
   "cell_type": "code",
   "execution_count": null,
   "metadata": {},
   "outputs": [],
   "source": [
    "sel = SelectFromModel(RandomForestClassifier(n_estimators = 100))\n",
    "sel.fit(X,Y)\n",
    "for i,j in zip(df.columns,sel.get_support()):\n",
    "    print(i,j)"
   ]
  }
 ],
 "metadata": {
  "kernelspec": {
   "display_name": "Python 3",
   "language": "python",
   "name": "python3"
  },
  "language_info": {
   "codemirror_mode": {
    "name": "ipython",
    "version": 3
   },
   "file_extension": ".py",
   "mimetype": "text/x-python",
   "name": "python",
   "nbconvert_exporter": "python",
   "pygments_lexer": "ipython3",
   "version": "3.7.4"
  }
 },
 "nbformat": 4,
 "nbformat_minor": 2
}
